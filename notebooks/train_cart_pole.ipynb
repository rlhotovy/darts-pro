{
 "cells": [
  {
   "cell_type": "code",
   "execution_count": 1,
   "metadata": {},
   "outputs": [],
   "source": [
    "%load_ext autoreload\n",
    "%autoreload 2"
   ]
  },
  {
   "cell_type": "code",
   "execution_count": 2,
   "metadata": {},
   "outputs": [],
   "source": [
    "from dataclasses import dataclass, field\n",
    "\n",
    "import gymnasium as gym\n",
    "import numpy as np\n",
    "import torch\n",
    "import matplotlib.pyplot as plt\n",
    "from IPython import display\n",
    "\n",
    "from darts_pro.dqn import (\n",
    "    DQNTrainingLoop, \n",
    "    LinearNetwork,\n",
    "    StepResult,\n",
    "    TrainingLoopConfig,\n",
    "    DQN,\n",
    "    EpisodeEndPayload\n",
    ")"
   ]
  },
  {
   "cell_type": "code",
   "execution_count": 3,
   "metadata": {},
   "outputs": [],
   "source": [
    "env = gym.make(\"CartPole-v1\")"
   ]
  },
  {
   "cell_type": "code",
   "execution_count": 17,
   "metadata": {},
   "outputs": [],
   "source": [
    "MAX_X = 2.4\n",
    "MAX_THETA = 0.2095\n",
    "THETA_SCALE = (np.pi / 2) / MAX_THETA\n",
    "\n",
    "@dataclass\n",
    "class CartPoleConfig:\n",
    "    steps_between_agent_update: int = 5\n",
    "    loop_config: TrainingLoopConfig = field(default_factory=TrainingLoopConfig)\n",
    "\n",
    "\n",
    "class CartPoleTrainingLoop(DQNTrainingLoop):\n",
    "    def __init__(\n",
    "            self,\n",
    "            n_episodes: int,\n",
    "            env: gym.Env,\n",
    "            policy_network: DQN,\n",
    "            target_network: DQN,\n",
    "            config: CartPoleConfig):\n",
    "        super().__init__(n_episodes, [0, 1], policy_network, target_network, None, config.loop_config)\n",
    "        self._env = env\n",
    "        self._steps_between_agent_update = config.steps_between_agent_update\n",
    "        self._steps = 0\n",
    "\n",
    "        self._reset_env()\n",
    "\n",
    "\n",
    "    def _should_increment_agent_strategy(self) -> bool:\n",
    "        if self._steps > 0 and self._steps % self._steps_between_agent_update == 0:\n",
    "            self._steps = 0\n",
    "            return True\n",
    "        return False\n",
    "    \n",
    "    def _current_state(self) -> torch.Tensor:\n",
    "        return self._current_state_tensor\n",
    "    \n",
    "    def _reset_env(self):\n",
    "        initial_state, _ = self._env.reset()\n",
    "        self._current_state_tensor = torch.Tensor(initial_state)\n",
    "\n",
    "    def _reward_for_state(self, state: torch.Tensor) -> float:\n",
    "        # We should get a 1 if we're perfectly in the middle of the screen\n",
    "        # with the pole standing perfectly upright. It should approach zero as\n",
    "        # we move towards the end of the screen or if the pole starts falling over.\n",
    "        x, _, theta, __ = state\n",
    "        x_component = 1 - (1 / MAX_X) * np.abs(x)\n",
    "        theta_component = np.cos(THETA_SCALE * theta)\n",
    "\n",
    "        # Taking geometric mean here because I want it to fall off to zero if either\n",
    "        # component is small instead of arithmetic mean.\n",
    "        return np.sqrt(np.maximum(x_component, 0) * np.maximum(theta_component, 0))\n",
    "\n",
    "    \n",
    "    def _step(self, action: int) -> StepResult:\n",
    "        next_state, _, terminated, truncated, _ = self._env.step(action)\n",
    "        done = terminated or truncated\n",
    "        reward = self._reward_for_state(next_state) if not done else -1.0\n",
    "        self._steps += 1\n",
    "\n",
    "        next_state_tensor = torch.Tensor(next_state)\n",
    "        if done:\n",
    "            self._reset_env()\n",
    "        else:\n",
    "            self._current_state_tensor = next_state_tensor\n",
    "        return next_state_tensor, reward, done, {}\n"
   ]
  },
  {
   "cell_type": "code",
   "execution_count": 18,
   "metadata": {},
   "outputs": [
    {
     "data": {
      "image/png": "[encoded data removed]",
      "text/plain": [
       "<Figure size 640x480 with 2 Axes>"
      ]
     },
     "metadata": {},
     "output_type": "display_data"
    }
   ],
   "source": [
    "EPISODES_BETWEEN_REPORT = 15\n",
    "SMOOTH_WINDOW_LENGTH = 5\n",
    "\n",
    "all_rewards = []\n",
    "all_step_counts = []\n",
    "\n",
    "fig, [a1, a2] = plt.subplots(1, 2)\n",
    "a1.set_title(\"Average Reward\")\n",
    "a2.set_title(\"Average Step Count\")\n",
    "\n",
    "def on_episode_end(payload: EpisodeEndPayload):\n",
    "    all_rewards.append(payload.total_epsisode_reward)\n",
    "    all_step_counts.append(payload.n_steps)\n",
    "    if payload.episode_number % EPISODES_BETWEEN_REPORT > 0:\n",
    "        return\n",
    "\n",
    "    print(\n",
    "        f\"Finished game {payload.episode_number}. Total Reward for episode {payload.total_epsisode_reward}\"\n",
    "    )\n",
    "\n",
    "    plt.clf()\n",
    "    averaged_reward = np.convolve(all_rewards, 1 / SMOOTH_WINDOW_LENGTH * np.ones(SMOOTH_WINDOW_LENGTH))\n",
    "    averaged_steps = np.convolve(all_step_counts, 1 / SMOOTH_WINDOW_LENGTH * np.ones(SMOOTH_WINDOW_LENGTH))\n",
    "    if len(averaged_reward) <= 2 * SMOOTH_WINDOW_LENGTH:\n",
    "        return\n",
    "    a1.plot(averaged_reward[SMOOTH_WINDOW_LENGTH:-SMOOTH_WINDOW_LENGTH], color=\"red\")\n",
    "    a2.plot(averaged_steps[SMOOTH_WINDOW_LENGTH:-SMOOTH_WINDOW_LENGTH], color=\"blue\")\n",
    "    # fig.show()\n",
    "    display.display(fig)\n",
    "    display.clear_output(wait=True)\n"
   ]
  },
  {
   "cell_type": "code",
   "execution_count": 19,
   "metadata": {},
   "outputs": [],
   "source": [
    "loop_config = TrainingLoopConfig()\n",
    "conf = CartPoleConfig(steps_between_agent_update=5)\n",
    "policy_network = LinearNetwork(4, 2, [128, 128])\n",
    "target_network = LinearNetwork(4, 2, [128, 128])\n",
    "\n",
    "loop = CartPoleTrainingLoop(300, env, policy_network, target_network, conf)\n",
    "loop.add_on_episode_end_callback(on_episode_end)"
   ]
  },
  {
   "cell_type": "code",
   "execution_count": 20,
   "metadata": {},
   "outputs": [
    {
     "ename": "KeyboardInterrupt",
     "evalue": "",
     "output_type": "error",
     "traceback": [
      "\u001b[0;31m---------------------------------------------------------------------------\u001b[0m",
      "\u001b[0;31mKeyboardInterrupt\u001b[0m                         Traceback (most recent call last)",
      "\u001b[1;32m/workspaces/darts-pro/notebooks/train_cart_pole.ipynb Cell 7\u001b[0m line \u001b[0;36m1\n\u001b[0;32m----> <a href='vscode-notebook-cell://dev-container%2B7b22686f737450617468223a222f55736572732f7279616e2e686f746f76792f736f757263652f726c686f746f76792f64617274732d70726f222c226c6f63616c446f636b6572223a66616c73652c2273657474696e6773223a7b22636f6e74657874223a226465736b746f702d6c696e7578227d2c22636f6e66696746696c65223a7b22246d6964223a312c22667350617468223a222f55736572732f7279616e2e686f746f76792f736f757263652f726c686f746f76792f64617274732d70726f2f2e646576636f6e7461696e65722f646576636f6e7461696e65722e6a736f6e222c2265787465726e616c223a2266696c653a2f2f2f55736572732f7279616e2e686f746f76792f736f757263652f726c686f746f76792f64617274732d70726f2f2e646576636f6e7461696e65722f646576636f6e7461696e65722e6a736f6e222c2270617468223a222f55736572732f7279616e2e686f746f76792f736f757263652f726c686f746f76792f64617274732d70726f2f2e646576636f6e7461696e65722f646576636f6e7461696e65722e6a736f6e222c22736368656d65223a2266696c65227d7d/workspaces/darts-pro/notebooks/train_cart_pole.ipynb#W6sdnNjb2RlLXJlbW90ZQ%3D%3D?line=0'>1</a>\u001b[0m loop\u001b[39m.\u001b[39;49mrun()\n",
      "File \u001b[0;32m/workspaces/darts-pro/darts_pro/dqn/train_loop.py:95\u001b[0m, in \u001b[0;36mDQNTrainingLoop.run\u001b[0;34m(self)\u001b[0m\n\u001b[1;32m     93\u001b[0m \u001b[39mdef\u001b[39;00m \u001b[39mrun\u001b[39m(\u001b[39mself\u001b[39m):\n\u001b[1;32m     94\u001b[0m     \u001b[39mfor\u001b[39;00m episode \u001b[39min\u001b[39;00m \u001b[39mrange\u001b[39m(\u001b[39mself\u001b[39m\u001b[39m.\u001b[39m_n_episodes):\n\u001b[0;32m---> 95\u001b[0m         \u001b[39mself\u001b[39;49m\u001b[39m.\u001b[39;49m_play_episode(episode)\n",
      "File \u001b[0;32m/workspaces/darts-pro/darts_pro/dqn/train_loop.py:147\u001b[0m, in \u001b[0;36mDQNTrainingLoop._play_episode\u001b[0;34m(self, epsiode_number)\u001b[0m\n\u001b[1;32m    136\u001b[0m (\n\u001b[1;32m    137\u001b[0m     states,\n\u001b[1;32m    138\u001b[0m     actions,\n\u001b[0;32m   (...)\u001b[0m\n\u001b[1;32m    141\u001b[0m     next_is_final,\n\u001b[1;32m    142\u001b[0m ) \u001b[39m=\u001b[39m \u001b[39mself\u001b[39m\u001b[39m.\u001b[39m_extract_tensors(experiences)\n\u001b[1;32m    144\u001b[0m current_q_values \u001b[39m=\u001b[39m QValues\u001b[39m.\u001b[39mget_current(\n\u001b[1;32m    145\u001b[0m     \u001b[39mself\u001b[39m\u001b[39m.\u001b[39m_policy_network, states, actions\n\u001b[1;32m    146\u001b[0m )\n\u001b[0;32m--> 147\u001b[0m next_q_values \u001b[39m=\u001b[39m QValues\u001b[39m.\u001b[39;49mget_next(\n\u001b[1;32m    148\u001b[0m     \u001b[39mself\u001b[39;49m\u001b[39m.\u001b[39;49m_target_network, next_states, next_is_final\n\u001b[1;32m    149\u001b[0m )\n\u001b[1;32m    150\u001b[0m target_q_values \u001b[39m=\u001b[39m (next_q_values \u001b[39m*\u001b[39m \u001b[39mself\u001b[39m\u001b[39m.\u001b[39m_gamma) \u001b[39m+\u001b[39m rewards\n\u001b[1;32m    152\u001b[0m \u001b[39m# Um... check this... I had next_q_values.unsqueeze here... why?\u001b[39;00m\n",
      "File \u001b[0;32m/workspaces/darts-pro/darts_pro/dqn/q_values.py:22\u001b[0m, in \u001b[0;36mQValues.get_next\u001b[0;34m(target_net, next_states, next_is_final)\u001b[0m\n\u001b[1;32m     20\u001b[0m batch_size \u001b[39m=\u001b[39m next_states\u001b[39m.\u001b[39mshape[\u001b[39m0\u001b[39m]\n\u001b[1;32m     21\u001b[0m values \u001b[39m=\u001b[39m torch\u001b[39m.\u001b[39mzeros(batch_size)\u001b[39m.\u001b[39mto(QValues\u001b[39m.\u001b[39mdevice)\n\u001b[0;32m---> 22\u001b[0m values[\u001b[39m~\u001b[39mnext_is_final] \u001b[39m=\u001b[39m target_net(non_final_states)\u001b[39m.\u001b[39;49mmax(dim\u001b[39m=\u001b[39;49m\u001b[39m1\u001b[39;49m)[\u001b[39m0\u001b[39m]\u001b[39m.\u001b[39mdetach()\n\u001b[1;32m     23\u001b[0m \u001b[39mreturn\u001b[39;00m values\n",
      "\u001b[0;31mKeyboardInterrupt\u001b[0m: "
     ]
    },
    {
     "data": {
      "text/plain": [
       "<Figure size 640x480 with 0 Axes>"
      ]
     },
     "metadata": {},
     "output_type": "display_data"
    }
   ],
   "source": [
    "loop.run()"
   ]
  },
  {
   "cell_type": "code",
   "execution_count": null,
   "metadata": {},
   "outputs": [],
   "source": []
  }
 ],
 "metadata": {
  "kernelspec": {
   "display_name": "Python 3",
   "language": "python",
   "name": "python3"
  },
  "language_info": {
   "codemirror_mode": {
    "name": "ipython",
    "version": 3
   },
   "file_extension": ".py",
   "mimetype": "text/x-python",
   "name": "python",
   "nbconvert_exporter": "python",
   "pygments_lexer": "ipython3",
   "version": "3.9.6"
  },
  "orig_nbformat": 4
 },
 "nbformat": 4,
 "nbformat_minor": 2
}
