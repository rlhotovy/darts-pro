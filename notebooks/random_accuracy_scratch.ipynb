{
 "cells": [
  {
   "cell_type": "code",
   "execution_count": 14,
   "metadata": {},
   "outputs": [],
   "source": [
    "from typing import Callable\n",
    "import numpy as np\n",
    "from scipy.integrate import dblquad"
   ]
  },
  {
   "cell_type": "code",
   "execution_count": 15,
   "metadata": {},
   "outputs": [],
   "source": [
    "def get_integrand(mu_x, mu_y, sigma_x, sigma_y) -> Callable[[float, float], float]:\n",
    "    def normal(r, theta):\n",
    "        A = 1 / (2 * np.pi * sigma_x * sigma_y)\n",
    "        x_hat = (r * np.cos(theta) - mu_x) / sigma_x\n",
    "        y_hat = (r * np.sin(theta) - mu_y) / sigma_y\n",
    "        return A * r * np.exp((-1 / 2) * (np.square(x_hat) + np.square(y_hat)))\n",
    "\n",
    "    return normal"
   ]
  },
  {
   "cell_type": "code",
   "execution_count": 11,
   "metadata": {},
   "outputs": [],
   "source": [
    "# Derived from https://www.dimensions.com/element/dartboard\n",
    "diameter = 451\n",
    "radius = diameter / 2\n",
    "ring_width = 8\n",
    "r_single_bull = 32\n",
    "r_double_bull = 12.7\n",
    "\n",
    "r_center = 0.0\n",
    "\n",
    "r_outer_triple = 107\n",
    "r_inner_triple = r_outer_triple - ring_width\n",
    "r_inner_single = (r_inner_triple + r_double_bull) / 2\n",
    "\n",
    "r_triple_center = (r_inner_triple + r_outer_triple) / 2\n",
    "\n",
    "r_outer_double = 170\n",
    "r_inner_double = 170 - ring_width\n",
    "\n",
    "r_outer_single = (r_outer_triple + r_inner_double) / 2\n",
    "r_double_center = (r_inner_double + r_outer_double) / 2\n",
    "\n",
    "target_rs = 1 / radius * np.array([r_center, r_inner_single, r_triple_center, r_outer_single, r_double_center])\n",
    "r_double_bull_pct = r_double_bull / radius\n",
    "r_single_bull_pct = r_single_bull / radius\n",
    "r_inner_triple_pct = r_inner_triple / radius\n",
    "r_outer_triple_pct = r_outer_triple / radius\n",
    "r_inner_double_pct = r_inner_double / radius\n",
    "r_outer_double_pct = r_outer_double / radius"
   ]
  },
  {
   "cell_type": "code",
   "execution_count": 13,
   "metadata": {},
   "outputs": [
    {
     "name": "stdout",
     "output_type": "stream",
     "text": [
      "0.14879346772728233 0.12373780476822326\n"
     ]
    }
   ],
   "source": [
    "sigma_x, sigma_y = 0.25, 0.25\n",
    "\n",
    "n_sections = 20\n",
    "sector_theta = 2 * np.pi / n_sections\n",
    "p_total = 0.0\n",
    "r = target_rs[0]\n",
    "\n",
    "integrand = get_integrand(0, r, sigma_x, sigma_y)\n",
    "p_double_bull, _ = dblquad(integrand, 0, 2 * np.pi, 0, r_double_bull_pct)\n",
    "p_total += p_double_bull\n",
    "\n",
    "p_single_bull, _ = dblquad(integrand, 0, 2 * np.pi, r_double_bull_pct, r_single_bull_pct)\n",
    "p_total += p_single_bull\n",
    "print(p_total, p_single_bull)\n",
    "\n",
    "for offset in range(n_sections):\n",
    "    theta_start = -sector_theta / 2 + (offset * sector_theta)\n",
    "    theta_end = sector_theta / 2 + (offset * sector_theta)\n"
   ]
  }
 ],
 "metadata": {
  "kernelspec": {
   "display_name": "Python 3.9.6 64-bit",
   "language": "python",
   "name": "python3"
  },
  "language_info": {
   "codemirror_mode": {
    "name": "ipython",
    "version": 3
   },
   "file_extension": ".py",
   "mimetype": "text/x-python",
   "name": "python",
   "nbconvert_exporter": "python",
   "pygments_lexer": "ipython3",
   "version": "3.9.6"
  },
  "orig_nbformat": 4,
  "vscode": {
   "interpreter": {
    "hash": "949777d72b0d2535278d3dc13498b2535136f6dfe0678499012e853ee9abcab1"
   }
  }
 },
 "nbformat": 4,
 "nbformat_minor": 2
}
