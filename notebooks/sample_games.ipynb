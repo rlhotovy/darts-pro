{
 "cells": [
  {
   "cell_type": "code",
   "execution_count": 1,
   "metadata": {},
   "outputs": [],
   "source": [
    "%load_ext autoreload\n",
    "%autoreload 2"
   ]
  },
  {
   "cell_type": "code",
   "execution_count": 2,
   "metadata": {},
   "outputs": [],
   "source": [
    "from collections import OrderedDict\n",
    "\n",
    "from darts_pro.base import compute_probability_lookup, DartBoard\n",
    "from darts_pro.games.o_one import X01Game, RandomX01Player, X01GameState"
   ]
  },
  {
   "cell_type": "code",
   "execution_count": 3,
   "metadata": {},
   "outputs": [],
   "source": [
    "sigma_x = 0.25\n",
    "sigma_y = 0.25\n",
    "\n",
    "prob_lookup = compute_probability_lookup(sigma_x, sigma_y)\n",
    "\n",
    "team_one = [RandomX01Player(0, prob_lookup)]\n",
    "team_two = [RandomX01Player(1, prob_lookup)]\n",
    "\n",
    "teams = OrderedDict({0: team_one, 1: team_two})"
   ]
  },
  {
   "cell_type": "code",
   "execution_count": 4,
   "metadata": {},
   "outputs": [],
   "source": [
    "def state_to_string(state: X01GameState) -> str:\n",
    "    return f\"Scores: {state.team_scores}, Turn number: {state.turn_number}\""
   ]
  },
  {
   "cell_type": "code",
   "execution_count": 8,
   "metadata": {},
   "outputs": [
    {
     "name": "stdout",
     "output_type": "stream",
     "text": [
      "Initial state: X01GameState(turn_number=0, current_thrower_dart_number=0, team_scores={0: 301, 1: 301}, target_score=301)\n",
      "State after playing turn: Scores: {0: 240, 1: 240}, Turn number: 1\n",
      "State after playing turn: Scores: {0: 156, 1: 205}, Turn number: 2\n",
      "State after playing turn: Scores: {0: 136, 1: 185}, Turn number: 3\n",
      "State after playing turn: Scores: {0: 111, 1: 159}, Turn number: 4\n",
      "State after playing turn: Scores: {0: 86, 1: 118}, Turn number: 5\n",
      "State after playing turn: Scores: {0: 81, 1: 73}, Turn number: 6\n",
      "State after playing turn: Scores: {0: 51, 1: 19}, Turn number: 7\n",
      "State after playing turn: Scores: {0: 49, 1: 12}, Turn number: 8\n",
      "State after playing turn: Scores: {0: 36, 1: 7}, Turn number: 9\n",
      "State after playing turn: Scores: {0: 24, 1: 7}, Turn number: 10\n",
      "State after playing turn: Scores: {0: 0, 1: 7}, Turn number: 10\n",
      "Game one by team 0 in 11 turns\n",
      "Final state: X01GameState(turn_number=10, current_thrower_dart_number=3, team_scores={0: 0, 1: 7}, target_score=301)\n"
     ]
    }
   ],
   "source": [
    "game = X01Game(teams, DartBoard.get_default_dartboard(False))\n",
    "game_is_done = False\n",
    "\n",
    "print(f\"Initial state: {game.state()}\")\n",
    "while not game_is_done:\n",
    "    game_is_done, winner = game.play_turn()\n",
    "    print(f\"State after playing turn: {state_to_string(game.state())}\")\n",
    "\n",
    "print(f\"Game one by team {winner} in {game.state().turn_number + 1} turns\")\n",
    "print(f\"Final state: {game.state()}\")"
   ]
  },
  {
   "cell_type": "code",
   "execution_count": null,
   "metadata": {},
   "outputs": [],
   "source": []
  }
 ],
 "metadata": {
  "kernelspec": {
   "display_name": "Python 3",
   "language": "python",
   "name": "python3"
  },
  "language_info": {
   "name": "python",
   "version": "3.9.6 (default, Aug 17 2021, 15:47:23) \n[GCC 8.3.0]"
  },
  "orig_nbformat": 4,
  "vscode": {
   "interpreter": {
    "hash": "949777d72b0d2535278d3dc13498b2535136f6dfe0678499012e853ee9abcab1"
   }
  }
 },
 "nbformat": 4,
 "nbformat_minor": 2
}
