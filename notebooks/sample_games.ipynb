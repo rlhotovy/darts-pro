{
 "cells": [
  {
   "cell_type": "code",
   "execution_count": 1,
   "metadata": {},
   "outputs": [],
   "source": [
    "%load_ext autoreload\n",
    "%autoreload 2"
   ]
  },
  {
   "cell_type": "code",
   "execution_count": 2,
   "metadata": {},
   "outputs": [],
   "source": [
    "from collections import OrderedDict\n",
    "\n",
    "from darts_pro.base import compute_probability_lookup, DartBoard\n",
    "from darts_pro.games.o_one import X01Game, RandomX01Player, X01GameState"
   ]
  },
  {
   "cell_type": "code",
   "execution_count": 3,
   "metadata": {},
   "outputs": [],
   "source": [
    "sigma_x = 0.25\n",
    "sigma_y = 0.25\n",
    "\n",
    "prob_lookup = compute_probability_lookup(sigma_x, sigma_y)\n",
    "\n",
    "team_one = [RandomX01Player(0,'player1', prob_lookup)]\n",
    "team_two = [RandomX01Player(1,'player2' ,prob_lookup)]\n",
    "\n",
    "teams = OrderedDict({0: team_one, 1: team_two})"
   ]
  },
  {
   "cell_type": "code",
   "execution_count": 4,
   "metadata": {},
   "outputs": [],
   "source": [
    "def state_to_string(state: X01GameState) -> str:\n",
    "    return f\"Scores: {state.team_scores}, Turn number: {state.turn_number}\""
   ]
  },
  {
   "cell_type": "code",
   "execution_count": 13,
   "metadata": {},
   "outputs": [
    {
     "name": "stdout",
     "output_type": "stream",
     "text": [
      "Initial state: <darts_pro.games.o_one.state.X01GameState object at 0xffff3d1f6c40>\n",
      "State after playing turn: Scores: {0: 296, 1: 301}, Turn number: 0\n",
      "State after playing turn: Scores: {0: 236, 1: 301}, Turn number: 0\n",
      "State after playing turn: Scores: {0: 235, 1: 301}, Turn number: 0\n",
      "State after playing turn: Scores: {0: 235, 1: 301}, Turn number: 1\n",
      "State after playing turn: Scores: {0: 235, 1: 289}, Turn number: 1\n",
      "State after playing turn: Scores: {0: 235, 1: 285}, Turn number: 1\n",
      "State after playing turn: Scores: {0: 235, 1: 285}, Turn number: 1\n",
      "State after playing turn: Scores: {0: 235, 1: 285}, Turn number: 2\n",
      "State after playing turn: Scores: {0: 234, 1: 285}, Turn number: 2\n",
      "State after playing turn: Scores: {0: 234, 1: 285}, Turn number: 2\n",
      "State after playing turn: Scores: {0: 234, 1: 285}, Turn number: 2\n",
      "State after playing turn: Scores: {0: 234, 1: 285}, Turn number: 3\n",
      "State after playing turn: Scores: {0: 234, 1: 285}, Turn number: 3\n",
      "State after playing turn: Scores: {0: 234, 1: 280}, Turn number: 3\n",
      "State after playing turn: Scores: {0: 234, 1: 280}, Turn number: 3\n",
      "State after playing turn: Scores: {0: 234, 1: 280}, Turn number: 4\n",
      "State after playing turn: Scores: {0: 234, 1: 280}, Turn number: 4\n",
      "State after playing turn: Scores: {0: 224, 1: 280}, Turn number: 4\n",
      "State after playing turn: Scores: {0: 224, 1: 280}, Turn number: 4\n",
      "State after playing turn: Scores: {0: 224, 1: 280}, Turn number: 5\n",
      "State after playing turn: Scores: {0: 224, 1: 280}, Turn number: 5\n",
      "State after playing turn: Scores: {0: 224, 1: 271}, Turn number: 5\n",
      "State after playing turn: Scores: {0: 224, 1: 253}, Turn number: 5\n",
      "State after playing turn: Scores: {0: 224, 1: 253}, Turn number: 6\n",
      "State after playing turn: Scores: {0: 224, 1: 253}, Turn number: 6\n",
      "State after playing turn: Scores: {0: 204, 1: 253}, Turn number: 6\n",
      "State after playing turn: Scores: {0: 196, 1: 253}, Turn number: 6\n",
      "State after playing turn: Scores: {0: 176, 1: 253}, Turn number: 7\n",
      "State after playing turn: Scores: {0: 176, 1: 235}, Turn number: 7\n",
      "State after playing turn: Scores: {0: 176, 1: 235}, Turn number: 7\n",
      "State after playing turn: Scores: {0: 176, 1: 230}, Turn number: 7\n",
      "State after playing turn: Scores: {0: 176, 1: 230}, Turn number: 8\n",
      "State after playing turn: Scores: {0: 176, 1: 230}, Turn number: 8\n",
      "State after playing turn: Scores: {0: 175, 1: 230}, Turn number: 8\n",
      "State after playing turn: Scores: {0: 163, 1: 230}, Turn number: 8\n",
      "State after playing turn: Scores: {0: 163, 1: 230}, Turn number: 9\n",
      "State after playing turn: Scores: {0: 163, 1: 229}, Turn number: 9\n",
      "State after playing turn: Scores: {0: 163, 1: 229}, Turn number: 9\n",
      "State after playing turn: Scores: {0: 163, 1: 211}, Turn number: 9\n",
      "State after playing turn: Scores: {0: 163, 1: 211}, Turn number: 10\n",
      "State after playing turn: Scores: {0: 143, 1: 211}, Turn number: 10\n",
      "State after playing turn: Scores: {0: 142, 1: 211}, Turn number: 10\n",
      "State after playing turn: Scores: {0: 124, 1: 211}, Turn number: 10\n",
      "State after playing turn: Scores: {0: 124, 1: 211}, Turn number: 11\n",
      "State after playing turn: Scores: {0: 124, 1: 211}, Turn number: 11\n",
      "State after playing turn: Scores: {0: 124, 1: 198}, Turn number: 11\n",
      "State after playing turn: Scores: {0: 124, 1: 193}, Turn number: 11\n",
      "State after playing turn: Scores: {0: 124, 1: 175}, Turn number: 12\n",
      "State after playing turn: Scores: {0: 106, 1: 175}, Turn number: 12\n",
      "State after playing turn: Scores: {0: 82, 1: 175}, Turn number: 12\n",
      "State after playing turn: Scores: {0: 82, 1: 175}, Turn number: 12\n",
      "State after playing turn: Scores: {0: 82, 1: 175}, Turn number: 13\n",
      "State after playing turn: Scores: {0: 82, 1: 175}, Turn number: 13\n",
      "State after playing turn: Scores: {0: 82, 1: 170}, Turn number: 13\n",
      "State after playing turn: Scores: {0: 82, 1: 169}, Turn number: 13\n",
      "State after playing turn: Scores: {0: 82, 1: 169}, Turn number: 14\n",
      "State after playing turn: Scores: {0: 62, 1: 169}, Turn number: 14\n",
      "State after playing turn: Scores: {0: 52, 1: 169}, Turn number: 14\n",
      "State after playing turn: Scores: {0: 35, 1: 169}, Turn number: 14\n",
      "State after playing turn: Scores: {0: 20, 1: 169}, Turn number: 15\n",
      "State after playing turn: Scores: {0: 20, 1: 149}, Turn number: 15\n",
      "State after playing turn: Scores: {0: 20, 1: 129}, Turn number: 15\n",
      "State after playing turn: Scores: {0: 20, 1: 128}, Turn number: 15\n",
      "State after playing turn: Scores: {0: 20, 1: 127}, Turn number: 16\n",
      "State after playing turn: Scores: {0: 19, 1: 127}, Turn number: 16\n",
      "State after playing turn: Scores: {0: 19, 1: 127}, Turn number: 16\n",
      "State after playing turn: Scores: {0: 0, 1: 127}, Turn number: 16\n",
      "Game won by team 0 in 17 turns\n",
      "Final state: <darts_pro.games.o_one.state.X01GameState object at 0xffff3d38c8b0>\n"
     ]
    }
   ],
   "source": [
    "game = X01Game(teams, DartBoard.get_default_dartboard(False))\n",
    "game_is_done = False\n",
    "\n",
    "print(f\"Initial state: {game.state()}\")\n",
    "while not game_is_done:\n",
    "    result, winner = game.play_next_throw()\n",
    "    game_is_done = result.ended_game\n",
    "    print(f\"State after playing turn: {state_to_string(game.state())}\")\n",
    "\n",
    "print(f\"Game won by team {winner} in {game.state().turn_number + 1} turns\")\n",
    "print(f\"Final state: {game.state()}\")"
   ]
  },
  {
   "cell_type": "code",
   "execution_count": 8,
   "metadata": {},
   "outputs": [
    {
     "data": {
      "text/plain": [
       "False"
      ]
     },
     "execution_count": 8,
     "metadata": {},
     "output_type": "execute_result"
    }
   ],
   "source": [
    "game_is_done.ended_game"
   ]
  },
  {
   "cell_type": "code",
   "execution_count": null,
   "metadata": {},
   "outputs": [],
   "source": []
  }
 ],
 "metadata": {
  "kernelspec": {
   "display_name": "Python 3",
   "language": "python",
   "name": "python3"
  },
  "language_info": {
   "codemirror_mode": {
    "name": "ipython",
    "version": 3
   },
   "file_extension": ".py",
   "mimetype": "text/x-python",
   "name": "python",
   "nbconvert_exporter": "python",
   "pygments_lexer": "ipython3",
   "version": "3.9.6"
  },
  "orig_nbformat": 4,
  "vscode": {
   "interpreter": {
    "hash": "949777d72b0d2535278d3dc13498b2535136f6dfe0678499012e853ee9abcab1"
   }
  }
 },
 "nbformat": 4,
 "nbformat_minor": 2
}
