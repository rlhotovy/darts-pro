{
 "cells": [
  {
   "cell_type": "code",
   "execution_count": 1,
   "metadata": {},
   "outputs": [],
   "source": [
    "%load_ext autoreload\n",
    "%autoreload 2"
   ]
  },
  {
   "cell_type": "code",
   "execution_count": 3,
   "metadata": {},
   "outputs": [],
   "source": [
    "from darts_pro.base import DartBoard\n",
    "from darts_pro.dqn import (\n",
    "    Agent,\n",
    "    PureGreedyStrategy,\n",
    "    LinearNetwork\n",
    ")\n",
    "from darts_pro.games.o_one import X01GameState, X01TrainingLoop, X01TrainingConfig"
   ]
  },
  {
   "cell_type": "code",
   "execution_count": 4,
   "metadata": {},
   "outputs": [],
   "source": [
    "N_EPISODES = 1000\n",
    "NETWORK_SHAPE = [128, 128]"
   ]
  },
  {
   "cell_type": "code",
   "execution_count": 5,
   "metadata": {},
   "outputs": [],
   "source": [
    "board = DartBoard.get_default_dartboard(False)\n",
    "input_size = X01GameState({0: 0}, 301, 0, 0, '', 0).to_tensor().shape[0]\n",
    "policy_network = LinearNetwork(input_size, len(board.indexed_targets), NETWORK_SHAPE)\n",
    "target_network = LinearNetwork(input_size, len(board.indexed_targets), NETWORK_SHAPE)\n",
    "target_network.load_state_dict(policy_network.state_dict())\n",
    "target_network.eval()\n",
    "\n",
    "config = X01TrainingConfig()"
   ]
  },
  {
   "cell_type": "code",
   "execution_count": 6,
   "metadata": {},
   "outputs": [],
   "source": [
    "loop = X01TrainingLoop(N_EPISODES, policy_network, target_network, config, board=board)"
   ]
  },
  {
   "cell_type": "code",
   "execution_count": 7,
   "metadata": {},
   "outputs": [
    {
     "ename": "IndexError",
     "evalue": "Dimension out of range (expected to be in range of [-1, 0], but got 1)",
     "output_type": "error",
     "traceback": [
      "\u001b[0;31m---------------------------------------------------------------------------\u001b[0m",
      "\u001b[0;31mIndexError\u001b[0m                                Traceback (most recent call last)",
      "\u001b[1;32m/workspaces/darts-pro/notebooks/train_single_x01_agent.ipynb Cell 6\u001b[0m line \u001b[0;36m1\n\u001b[0;32m----> <a href='vscode-notebook-cell://dev-container%2B7b22686f737450617468223a222f55736572732f7279616e2e686f746f76792f736f757263652f726c686f746f76792f64617274732d70726f222c226c6f63616c446f636b6572223a66616c73652c2273657474696e6773223a7b22636f6e74657874223a226465736b746f702d6c696e7578227d2c22636f6e66696746696c65223a7b22246d6964223a312c22667350617468223a222f55736572732f7279616e2e686f746f76792f736f757263652f726c686f746f76792f64617274732d70726f2f2e646576636f6e7461696e65722f646576636f6e7461696e65722e6a736f6e222c2265787465726e616c223a2266696c653a2f2f2f55736572732f7279616e2e686f746f76792f736f757263652f726c686f746f76792f64617274732d70726f2f2e646576636f6e7461696e65722f646576636f6e7461696e65722e6a736f6e222c2270617468223a222f55736572732f7279616e2e686f746f76792f736f757263652f726c686f746f76792f64617274732d70726f2f2e646576636f6e7461696e65722f646576636f6e7461696e65722e6a736f6e222c22736368656d65223a2266696c65227d7d/workspaces/darts-pro/notebooks/train_single_x01_agent.ipynb#X15sdnNjb2RlLXJlbW90ZQ%3D%3D?line=0'>1</a>\u001b[0m loop\u001b[39m.\u001b[39;49mrun()\n",
      "File \u001b[0;32m/workspaces/darts-pro/darts_pro/dqn/train_loop.py:71\u001b[0m, in \u001b[0;36mDQNTrainingLoop.run\u001b[0;34m(self)\u001b[0m\n\u001b[1;32m     69\u001b[0m \u001b[39mdef\u001b[39;00m \u001b[39mrun\u001b[39m(\u001b[39mself\u001b[39m):\n\u001b[1;32m     70\u001b[0m     \u001b[39mfor\u001b[39;00m episode \u001b[39min\u001b[39;00m \u001b[39mrange\u001b[39m(\u001b[39mself\u001b[39m\u001b[39m.\u001b[39m_n_episodes):\n\u001b[0;32m---> 71\u001b[0m         \u001b[39mself\u001b[39;49m\u001b[39m.\u001b[39;49m_play_episode(episode)\n",
      "File \u001b[0;32m/workspaces/darts-pro/darts_pro/dqn/train_loop.py:92\u001b[0m, in \u001b[0;36mDQNTrainingLoop._play_episode\u001b[0;34m(self, epsiode_number)\u001b[0m\n\u001b[1;32m     90\u001b[0m \u001b[39mwhile\u001b[39;00m \u001b[39mnot\u001b[39;00m done:\n\u001b[1;32m     91\u001b[0m     pre_step_state_tensor \u001b[39m=\u001b[39m \u001b[39mself\u001b[39m\u001b[39m.\u001b[39m_current_state()\n\u001b[0;32m---> 92\u001b[0m     action \u001b[39m=\u001b[39m \u001b[39mself\u001b[39;49m\u001b[39m.\u001b[39;49m_agent\u001b[39m.\u001b[39;49mselect_action(\n\u001b[1;32m     93\u001b[0m         pre_step_state_tensor, \u001b[39mself\u001b[39;49m\u001b[39m.\u001b[39;49m_policy_network\n\u001b[1;32m     94\u001b[0m     )\n\u001b[1;32m     95\u001b[0m     next_state, reward, done, _ \u001b[39m=\u001b[39m \u001b[39mself\u001b[39m\u001b[39m.\u001b[39m_step()\n\u001b[1;32m     96\u001b[0m     \u001b[39mif\u001b[39;00m \u001b[39mself\u001b[39m\u001b[39m.\u001b[39m_should_increment_agent_strategy():\n",
      "File \u001b[0;32m/workspaces/darts-pro/darts_pro/dqn/agent.py:26\u001b[0m, in \u001b[0;36mAgent.select_action\u001b[0;34m(self, state, policy_network)\u001b[0m\n\u001b[1;32m     24\u001b[0m \u001b[39melse\u001b[39;00m:\n\u001b[1;32m     25\u001b[0m     \u001b[39mwith\u001b[39;00m torch\u001b[39m.\u001b[39mno_grad():\n\u001b[0;32m---> 26\u001b[0m         action \u001b[39m=\u001b[39m policy_network(state)\u001b[39m.\u001b[39;49margmax(dim\u001b[39m=\u001b[39;49m\u001b[39m1\u001b[39;49m)\u001b[39m.\u001b[39mitem()\n\u001b[1;32m     28\u001b[0m \u001b[39mself\u001b[39m\u001b[39m.\u001b[39m_last_action_taken \u001b[39m=\u001b[39m action\n\u001b[1;32m     29\u001b[0m \u001b[39mreturn\u001b[39;00m action\n",
      "\u001b[0;31mIndexError\u001b[0m: Dimension out of range (expected to be in range of [-1, 0], but got 1)"
     ]
    }
   ],
   "source": [
    "loop.run()"
   ]
  },
  {
   "cell_type": "markdown",
   "metadata": {},
   "source": [
    "## Testing After Training"
   ]
  },
  {
   "cell_type": "code",
   "execution_count": 47,
   "metadata": {},
   "outputs": [
    {
     "name": "stdout",
     "output_type": "stream",
     "text": [
      "Target(value=2, multiplier=3, is_bullseye=False)\n"
     ]
    }
   ],
   "source": [
    "board = DartBoard.get_default_dartboard(False)\n",
    "all_actions = list(board.indexed_targets.keys())\n",
    "\n",
    "new_agent = Agent(PureGreedyStrategy(), all_actions)\n",
    "dummy_state = X01GameState({0: 5}, 301, 17, 0, '', 0).to_tensor()[None]\n",
    "act = new_agent.select_action(dummy_state, policy_network)\n",
    "print(board.indexed_targets[act])"
   ]
  },
  {
   "cell_type": "code",
   "execution_count": null,
   "metadata": {},
   "outputs": [],
   "source": []
  }
 ],
 "metadata": {
  "kernelspec": {
   "display_name": "Python 3",
   "language": "python",
   "name": "python3"
  },
  "language_info": {
   "codemirror_mode": {
    "name": "ipython",
    "version": 3
   },
   "file_extension": ".py",
   "mimetype": "text/x-python",
   "name": "python",
   "nbconvert_exporter": "python",
   "pygments_lexer": "ipython3",
   "version": "3.9.6"
  },
  "orig_nbformat": 4,
  "vscode": {
   "interpreter": {
    "hash": "949777d72b0d2535278d3dc13498b2535136f6dfe0678499012e853ee9abcab1"
   }
  }
 },
 "nbformat": 4,
 "nbformat_minor": 2
}
