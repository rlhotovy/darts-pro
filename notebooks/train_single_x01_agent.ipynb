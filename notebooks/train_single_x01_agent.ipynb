{
 "cells": [
  {
   "cell_type": "code",
   "execution_count": 1,
   "metadata": {},
   "outputs": [],
   "source": [
    "%load_ext autoreload\n",
    "%autoreload 2"
   ]
  },
  {
   "cell_type": "code",
   "execution_count": 2,
   "metadata": {},
   "outputs": [],
   "source": [
    "from darts_pro.base import DartBoard\n",
    "from darts_pro.dqn import (\n",
    "    Agent,\n",
    "    PureGreedyStrategy,\n",
    "    LinearNetwork\n",
    ")\n",
    "from darts_pro.games.o_one import X01GameState, X01TrainingLoop, X01TrainingConfig"
   ]
  },
  {
   "cell_type": "code",
   "execution_count": 5,
   "metadata": {},
   "outputs": [],
   "source": [
    "N_EPISODES = 1000\n",
    "NETWORK_SHAPE = [128, 128]"
   ]
  },
  {
   "cell_type": "code",
   "execution_count": 37,
   "metadata": {},
   "outputs": [],
   "source": [
    "board = DartBoard.get_default_dartboard(False)\n",
    "input_size = X01GameState({0: 0}, 301, 0, 0, '', 0).to_tensor().shape[0]\n",
    "policy_network = LinearNetwork(input_size, len(board.indexed_targets), NETWORK_SHAPE)\n",
    "target_network = LinearNetwork(input_size, len(board.indexed_targets), NETWORK_SHAPE)\n",
    "target_network.load_state_dict(policy_network.state_dict())\n",
    "target_network.eval()\n",
    "\n",
    "config = X01TrainingConfig()"
   ]
  },
  {
   "cell_type": "code",
   "execution_count": null,
   "metadata": {},
   "outputs": [],
   "source": [
    "loop = X01TrainingLoop(N_EPISODES, policy_network, target_network, config, board=board)"
   ]
  },
  {
   "cell_type": "code",
   "execution_count": null,
   "metadata": {},
   "outputs": [],
   "source": [
    "loop.run()"
   ]
  },
  {
   "cell_type": "markdown",
   "metadata": {},
   "source": [
    "## Testing After Training"
   ]
  },
  {
   "cell_type": "code",
   "execution_count": 47,
   "metadata": {},
   "outputs": [
    {
     "name": "stdout",
     "output_type": "stream",
     "text": [
      "Target(value=2, multiplier=3, is_bullseye=False)\n"
     ]
    }
   ],
   "source": [
    "board = DartBoard.get_default_dartboard(False)\n",
    "all_actions = list(board.indexed_targets.keys())\n",
    "\n",
    "new_agent = Agent(PureGreedyStrategy(), all_actions)\n",
    "dummy_state = X01GameState({0: 5}, 301, 17, 0, '', 0).to_tensor()[None]\n",
    "act = new_agent.select_action(dummy_state, policy_network)\n",
    "print(board.indexed_targets[act])"
   ]
  },
  {
   "cell_type": "code",
   "execution_count": null,
   "metadata": {},
   "outputs": [],
   "source": []
  }
 ],
 "metadata": {
  "kernelspec": {
   "display_name": "Python 3",
   "language": "python",
   "name": "python3"
  },
  "language_info": {
   "codemirror_mode": {
    "name": "ipython",
    "version": 3
   },
   "file_extension": ".py",
   "mimetype": "text/x-python",
   "name": "python",
   "nbconvert_exporter": "python",
   "pygments_lexer": "ipython3",
   "version": "3.9.6"
  },
  "orig_nbformat": 4,
  "vscode": {
   "interpreter": {
    "hash": "949777d72b0d2535278d3dc13498b2535136f6dfe0678499012e853ee9abcab1"
   }
  }
 },
 "nbformat": 4,
 "nbformat_minor": 2
}
