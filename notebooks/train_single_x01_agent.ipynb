{
 "cells": [
  {
   "cell_type": "code",
   "execution_count": 1,
   "metadata": {},
   "outputs": [],
   "source": [
    "%load_ext autoreload\n",
    "%autoreload 2"
   ]
  },
  {
   "cell_type": "code",
   "execution_count": 10,
   "metadata": {},
   "outputs": [],
   "source": [
    "from functools import partial\n",
    "\n",
    "from darts_pro.base import DartBoard, compute_probability_lookup\n",
    "from darts_pro.dqn import (\n",
    "    Agent,\n",
    "    PureGreedyStrategy,\n",
    "    LinearNetwork,\n",
    "    EpisodeEndPayload,\n",
    "    AgentPlayer,\n",
    "    TrainingPlayer\n",
    ")\n",
    "from darts_pro.games.o_one import (\n",
    "    X01GameState,\n",
    "    X01TrainingLoop,\n",
    "    X01TrainingConfig,\n",
    "    X01Game,\n",
    "    create_seeded_x01_memory\n",
    ")"
   ]
  },
  {
   "cell_type": "code",
   "execution_count": 3,
   "metadata": {},
   "outputs": [],
   "source": [
    "N_EPISODES = 500\n",
    "NETWORK_SHAPE = [128, 128]\n",
    "TARGET_SCORE = 20\n",
    "PLAY_TEST_GAME_FREQUENCY = 100\n",
    "MAX_TURNS = 10\n",
    "MIN_EPISODES_BEFORE_TEST_GAME = 300"
   ]
  },
  {
   "cell_type": "code",
   "execution_count": 4,
   "metadata": {},
   "outputs": [],
   "source": [
    "def _get_starting_scores(target_score: int, _: int) -> tuple[dict[int, int], int]:\n",
    "    return {0: target_score}, 0\n",
    "\n",
    "def _play_game(\n",
    "    agent_player: AgentPlayer,\n",
    "    board: DartBoard,\n",
    "    target_score: int,\n",
    "    max_turns: int,\n",
    "    episode_number: int\n",
    "):\n",
    "    teams = {0: [agent_player]}\n",
    "    scores, _ = _get_starting_scores(target_score, episode_number)\n",
    "    game = X01Game(teams, board, target_score, max_turns, scores)\n",
    "\n",
    "    game.play_to_completion(verbose=True)\n",
    "    \n",
    "\n",
    "def play_game_callback(\n",
    "    agent_player: AgentPlayer,\n",
    "    board: DartBoard,\n",
    "    target_score: int,\n",
    "    max_turns: int,\n",
    "    payload: EpisodeEndPayload\n",
    "):\n",
    "    if payload.episode_number % 50 == 0:\n",
    "        print(f\"Completed episode {payload.episode_number}\")\n",
    "    if (\n",
    "        payload.episode_number == 0 or\n",
    "        payload.episode_number < MIN_EPISODES_BEFORE_TEST_GAME or\n",
    "        payload.episode_number % PLAY_TEST_GAME_FREQUENCY != 0\n",
    "    ):\n",
    "        return\n",
    "    print(\"----------------------------\")\n",
    "    print(f\"Playing test game for episode {payload.episode_number}\")\n",
    "    _play_game(agent_player, board, target_score, max_turns, payload.episode_number)\n",
    "    print(f\"Finished test game for episode {payload.episode_number}\")\n",
    "    print(\"----------------------------\")\n"
   ]
  },
  {
   "cell_type": "code",
   "execution_count": 5,
   "metadata": {},
   "outputs": [],
   "source": [
    "board = DartBoard.get_default_dartboard(False)\n",
    "input_size = X01GameState({0: 0}, 301, 0, 0, '', 0).to_tensor().shape[0]\n",
    "policy_network = LinearNetwork(input_size, len(board.indexed_targets), NETWORK_SHAPE)\n",
    "target_network = LinearNetwork(input_size, len(board.indexed_targets), NETWORK_SHAPE)\n",
    "target_network.load_state_dict(policy_network.state_dict())\n",
    "target_network.eval()\n",
    "\n",
    "config = X01TrainingConfig(max_target_score=TARGET_SCORE, min_win_turns=1)\n",
    "\n",
    "# Trying seeded memory\n",
    "lookups = compute_probability_lookup(config.accuracy_sigma_x, config.accuracy_sigma_y, len(board.radial_targets))\n",
    "# seeded_memory = create_seeded_x01_memory(board, lookups)\n",
    "\n",
    "# inference agent\n",
    "inference_agent = AgentPlayer(\n",
    "    Agent(PureGreedyStrategy(), list(board.indexed_targets.keys())),\n",
    "    policy_network,\n",
    "    0,\n",
    "    'InferenceAgent',\n",
    "    lookups\n",
    ")\n",
    "game_cb = partial(play_game_callback, inference_agent, board, TARGET_SCORE, MAX_TURNS)"
   ]
  },
  {
   "cell_type": "code",
   "execution_count": 6,
   "metadata": {},
   "outputs": [],
   "source": [
    "get_starting_scores_for_loop = partial(_get_starting_scores, TARGET_SCORE)\n",
    "loop = X01TrainingLoop(\n",
    "    N_EPISODES,\n",
    "    policy_network,\n",
    "    target_network,\n",
    "    config,\n",
    "    board=board,\n",
    "    initialize_game=get_starting_scores_for_loop,\n",
    "    # memory=seeded_memory\n",
    ")\n",
    "loop.add_on_episode_end_callback(game_cb)"
   ]
  },
  {
   "cell_type": "code",
   "execution_count": 7,
   "metadata": {},
   "outputs": [
    {
     "name": "stdout",
     "output_type": "stream",
     "text": [
      "Completed episode 0\n",
      "Completed episode 50\n",
      "Completed episode 100\n",
      "Completed episode 150\n",
      "Completed episode 200\n",
      "Completed episode 250\n",
      "Completed episode 300\n",
      "Completed episode 350\n",
      "Completed episode 400\n",
      "----------------------------\n",
      "Playing test game for episode 400\n",
      "Playing throw 1, turn 1 for player 0__InferenceAgent\n",
      "Current scores: {'scores': {0: 20}, 'target_score': 20, 'turn_number': 0, 'current_throwing_team': 0, 'current_throwing_player': '0__InferenceAgent', 'current_thrower_dart_number': 0}\n",
      "Throwing at Target(value=15, multiplier=3, is_bullseye=False)\n",
      "Hit target Target(value=0, multiplier=1, is_bullseye=False)\n",
      "Current scores: {'scores': {0: 20}, 'target_score': 20, 'turn_number': 0, 'current_throwing_team': 0, 'current_throwing_player': '0__InferenceAgent', 'current_thrower_dart_number': 0}\n",
      "Game is currently done: False\n",
      "\n",
      "Playing throw 2, turn 1 for player 0__InferenceAgent\n",
      "Current scores: {'scores': {0: 20}, 'target_score': 20, 'turn_number': 0, 'current_throwing_team': 0, 'current_throwing_player': '0__InferenceAgent', 'current_thrower_dart_number': 1}\n",
      "Throwing at Target(value=9, multiplier=2, is_bullseye=False)\n",
      "Hit target Target(value=0, multiplier=1, is_bullseye=False)\n",
      "Current scores: {'scores': {0: 20}, 'target_score': 20, 'turn_number': 0, 'current_throwing_team': 0, 'current_throwing_player': '0__InferenceAgent', 'current_thrower_dart_number': 1}\n",
      "Game is currently done: False\n",
      "\n",
      "Playing throw 3, turn 1 for player 0__InferenceAgent\n",
      "Current scores: {'scores': {0: 20}, 'target_score': 20, 'turn_number': 0, 'current_throwing_team': 0, 'current_throwing_player': '0__InferenceAgent', 'current_thrower_dart_number': 2}\n",
      "Throwing at Target(value=8, multiplier=3, is_bullseye=False)\n",
      "Hit target Target(value=9, multiplier=1, is_bullseye=False)\n",
      "Current scores: {'scores': {0: 11}, 'target_score': 20, 'turn_number': 0, 'current_throwing_team': 0, 'current_throwing_player': '0__InferenceAgent', 'current_thrower_dart_number': 2}\n",
      "Game is currently done: False\n",
      "Player turn has ended. Game is now done: False. Winner: None\n",
      "\n",
      "Playing throw 1, turn 2 for player 0__InferenceAgent\n",
      "Current scores: {'scores': {0: 11}, 'target_score': 20, 'turn_number': 1, 'current_throwing_team': 0, 'current_throwing_player': '0__InferenceAgent', 'current_thrower_dart_number': 0}\n",
      "Throwing at Target(value=18, multiplier=2, is_bullseye=False)\n",
      "Hit target Target(value=0, multiplier=1, is_bullseye=False)\n",
      "Current scores: {'scores': {0: 11}, 'target_score': 20, 'turn_number': 1, 'current_throwing_team': 0, 'current_throwing_player': '0__InferenceAgent', 'current_thrower_dart_number': 0}\n",
      "Game is currently done: False\n",
      "\n",
      "Playing throw 2, turn 2 for player 0__InferenceAgent\n",
      "Current scores: {'scores': {0: 11}, 'target_score': 20, 'turn_number': 1, 'current_throwing_team': 0, 'current_throwing_player': '0__InferenceAgent', 'current_thrower_dart_number': 1}\n",
      "Throwing at Target(value=17, multiplier=2, is_bullseye=False)\n",
      "Hit target Target(value=0, multiplier=1, is_bullseye=False)\n",
      "Current scores: {'scores': {0: 11}, 'target_score': 20, 'turn_number': 1, 'current_throwing_team': 0, 'current_throwing_player': '0__InferenceAgent', 'current_thrower_dart_number': 1}\n",
      "Game is currently done: False\n",
      "\n",
      "Playing throw 3, turn 2 for player 0__InferenceAgent\n",
      "Current scores: {'scores': {0: 11}, 'target_score': 20, 'turn_number': 1, 'current_throwing_team': 0, 'current_throwing_player': '0__InferenceAgent', 'current_thrower_dart_number': 2}\n",
      "Throwing at Target(value=8, multiplier=1, is_bullseye=False)\n",
      "Hit target Target(value=8, multiplier=1, is_bullseye=False)\n",
      "Current scores: {'scores': {0: 3}, 'target_score': 20, 'turn_number': 1, 'current_throwing_team': 0, 'current_throwing_player': '0__InferenceAgent', 'current_thrower_dart_number': 2}\n",
      "Game is currently done: False\n",
      "Player turn has ended. Game is now done: False. Winner: None\n",
      "\n",
      "Playing throw 1, turn 3 for player 0__InferenceAgent\n",
      "Current scores: {'scores': {0: 3}, 'target_score': 20, 'turn_number': 2, 'current_throwing_team': 0, 'current_throwing_player': '0__InferenceAgent', 'current_thrower_dart_number': 0}\n",
      "Throwing at Target(value=13, multiplier=3, is_bullseye=False)\n",
      "Hit target Target(value=13, multiplier=1, is_bullseye=False)\n",
      "Current scores: {'scores': {0: 3}, 'target_score': 20, 'turn_number': 2, 'current_throwing_team': 0, 'current_throwing_player': '0__InferenceAgent', 'current_thrower_dart_number': 0}\n",
      "Game is currently done: False\n",
      "Player turn has ended. Game is now done: False. Winner: None\n",
      "\n",
      "Playing throw 1, turn 4 for player 0__InferenceAgent\n",
      "Current scores: {'scores': {0: 3}, 'target_score': 20, 'turn_number': 3, 'current_throwing_team': 0, 'current_throwing_player': '0__InferenceAgent', 'current_thrower_dart_number': 0}\n",
      "Throwing at Target(value=13, multiplier=3, is_bullseye=False)\n",
      "Hit target Target(value=13, multiplier=1, is_bullseye=False)\n",
      "Current scores: {'scores': {0: 3}, 'target_score': 20, 'turn_number': 3, 'current_throwing_team': 0, 'current_throwing_player': '0__InferenceAgent', 'current_thrower_dart_number': 0}\n",
      "Game is currently done: False\n",
      "Player turn has ended. Game is now done: False. Winner: None\n",
      "\n",
      "Playing throw 1, turn 5 for player 0__InferenceAgent\n",
      "Current scores: {'scores': {0: 3}, 'target_score': 20, 'turn_number': 4, 'current_throwing_team': 0, 'current_throwing_player': '0__InferenceAgent', 'current_thrower_dart_number': 0}\n",
      "Throwing at Target(value=18, multiplier=1, is_bullseye=False)\n",
      "Hit target Target(value=0, multiplier=1, is_bullseye=False)\n",
      "Current scores: {'scores': {0: 3}, 'target_score': 20, 'turn_number': 4, 'current_throwing_team': 0, 'current_throwing_player': '0__InferenceAgent', 'current_thrower_dart_number': 0}\n",
      "Game is currently done: False\n",
      "\n",
      "Playing throw 2, turn 5 for player 0__InferenceAgent\n",
      "Current scores: {'scores': {0: 3}, 'target_score': 20, 'turn_number': 4, 'current_throwing_team': 0, 'current_throwing_player': '0__InferenceAgent', 'current_thrower_dart_number': 1}\n",
      "Throwing at Target(value=4, multiplier=3, is_bullseye=False)\n",
      "Hit target Target(value=18, multiplier=1, is_bullseye=False)\n",
      "Current scores: {'scores': {0: 3}, 'target_score': 20, 'turn_number': 4, 'current_throwing_team': 0, 'current_throwing_player': '0__InferenceAgent', 'current_thrower_dart_number': 1}\n",
      "Game is currently done: False\n",
      "Player turn has ended. Game is now done: False. Winner: None\n",
      "\n",
      "Playing throw 1, turn 6 for player 0__InferenceAgent\n",
      "Current scores: {'scores': {0: 3}, 'target_score': 20, 'turn_number': 5, 'current_throwing_team': 0, 'current_throwing_player': '0__InferenceAgent', 'current_thrower_dart_number': 0}\n",
      "Throwing at Target(value=18, multiplier=1, is_bullseye=False)\n",
      "Hit target Target(value=13, multiplier=1, is_bullseye=False)\n",
      "Current scores: {'scores': {0: 3}, 'target_score': 20, 'turn_number': 5, 'current_throwing_team': 0, 'current_throwing_player': '0__InferenceAgent', 'current_thrower_dart_number': 0}\n",
      "Game is currently done: False\n",
      "Player turn has ended. Game is now done: False. Winner: None\n",
      "\n",
      "Playing throw 1, turn 7 for player 0__InferenceAgent\n",
      "Current scores: {'scores': {0: 3}, 'target_score': 20, 'turn_number': 6, 'current_throwing_team': 0, 'current_throwing_player': '0__InferenceAgent', 'current_thrower_dart_number': 0}\n",
      "Throwing at Target(value=8, multiplier=3, is_bullseye=False)\n",
      "Hit target Target(value=14, multiplier=1, is_bullseye=False)\n",
      "Current scores: {'scores': {0: 3}, 'target_score': 20, 'turn_number': 6, 'current_throwing_team': 0, 'current_throwing_player': '0__InferenceAgent', 'current_thrower_dart_number': 0}\n",
      "Game is currently done: False\n",
      "Player turn has ended. Game is now done: False. Winner: None\n",
      "\n",
      "Playing throw 1, turn 8 for player 0__InferenceAgent\n",
      "Current scores: {'scores': {0: 3}, 'target_score': 20, 'turn_number': 7, 'current_throwing_team': 0, 'current_throwing_player': '0__InferenceAgent', 'current_thrower_dart_number': 0}\n",
      "Throwing at Target(value=8, multiplier=3, is_bullseye=False)\n",
      "Hit target Target(value=50, multiplier=1, is_bullseye=False)\n",
      "Current scores: {'scores': {0: 3}, 'target_score': 20, 'turn_number': 7, 'current_throwing_team': 0, 'current_throwing_player': '0__InferenceAgent', 'current_thrower_dart_number': 0}\n",
      "Game is currently done: False\n",
      "Player turn has ended. Game is now done: False. Winner: None\n",
      "\n",
      "Playing throw 1, turn 9 for player 0__InferenceAgent\n",
      "Current scores: {'scores': {0: 3}, 'target_score': 20, 'turn_number': 8, 'current_throwing_team': 0, 'current_throwing_player': '0__InferenceAgent', 'current_thrower_dart_number': 0}\n",
      "Throwing at Target(value=11, multiplier=3, is_bullseye=False)\n",
      "Hit target Target(value=8, multiplier=1, is_bullseye=False)\n",
      "Current scores: {'scores': {0: 3}, 'target_score': 20, 'turn_number': 8, 'current_throwing_team': 0, 'current_throwing_player': '0__InferenceAgent', 'current_thrower_dart_number': 0}\n",
      "Game is currently done: False\n",
      "Player turn has ended. Game is now done: False. Winner: None\n",
      "\n",
      "Playing throw 1, turn 10 for player 0__InferenceAgent\n",
      "Current scores: {'scores': {0: 3}, 'target_score': 20, 'turn_number': 9, 'current_throwing_team': 0, 'current_throwing_player': '0__InferenceAgent', 'current_thrower_dart_number': 0}\n",
      "Throwing at Target(value=8, multiplier=3, is_bullseye=False)\n",
      "Hit target Target(value=16, multiplier=1, is_bullseye=False)\n",
      "Current scores: {'scores': {0: 3}, 'target_score': 20, 'turn_number': 9, 'current_throwing_team': 0, 'current_throwing_player': '0__InferenceAgent', 'current_thrower_dart_number': 0}\n",
      "Game is currently done: False\n",
      "Player turn has ended. Game is now done: True. Winner: None\n",
      "\n",
      "Finished test game for episode 400\n",
      "----------------------------\n",
      "Completed episode 450\n"
     ]
    }
   ],
   "source": [
    "loop.run()"
   ]
  },
  {
   "cell_type": "markdown",
   "metadata": {},
   "source": [
    "## Testing After Training"
   ]
  },
  {
   "cell_type": "code",
   "execution_count": null,
   "metadata": {},
   "outputs": [],
   "source": [
    "# board = DartBoard.get_default_dartboard(False)\n",
    "# all_actions = list(board.indexed_targets.keys())\n",
    "\n",
    "# new_agent = Agent(PureGreedyStrategy(), all_actions)\n",
    "# dummy_state = X01GameState({0: 5}, 301, 17, 0, '', 0).to_tensor()[None]\n",
    "# act = new_agent.select_action(dummy_state, policy_network)\n",
    "# print(board.indexed_targets[act])"
   ]
  },
  {
   "cell_type": "code",
   "execution_count": null,
   "metadata": {},
   "outputs": [],
   "source": [
    "_play_game(inference_agent, board, 301, 5, 1)"
   ]
  },
  {
   "cell_type": "code",
   "execution_count": 11,
   "metadata": {},
   "outputs": [],
   "source": [
    "seeded_memory = create_seeded_x01_memory(TrainingPlayer(0, 'seed', lookups), board, 301, 10, 5000)"
   ]
  },
  {
   "cell_type": "code",
   "execution_count": 14,
   "metadata": {},
   "outputs": [
    {
     "data": {
      "text/plain": [
       "6100"
      ]
     },
     "execution_count": 14,
     "metadata": {},
     "output_type": "execute_result"
    }
   ],
   "source": [
    "len(seeded_memory._memory)"
   ]
  },
  {
   "cell_type": "code",
   "execution_count": 15,
   "metadata": {},
   "outputs": [
    {
     "data": {
      "text/plain": [
       "{<AimPoints.BULLSEYE: 1>: ProbabilityComputationResult(sigma_x=0.25, sigma_y=0.25, double_bull_percentage=0.025055662959059075, single_bull_percentage=0.12373780476822326, miss_percentage=-0.11313549760482067, radial_target_percentages={0: RadialProbabiltyResult(inner_single_percentage=0.038048929334225205, triple_percentage=0.002443341082735139, outer_single_percentage=0.007449860497931826, double_percentage=0.00027497057898474934), 1: RadialProbabiltyResult(inner_single_percentage=0.038048929334225205, triple_percentage=0.002443341082735139, outer_single_percentage=0.007449860497931827, double_percentage=0.00027497057898474944), 2: RadialProbabiltyResult(inner_single_percentage=0.038048929334225205, triple_percentage=0.0024433410827351385, outer_single_percentage=0.007449860497931827, double_percentage=0.00027497057898474944), 3: RadialProbabiltyResult(inner_single_percentage=0.038048929334225205, triple_percentage=0.002443341082735139, outer_single_percentage=0.007449860497931827, double_percentage=0.00027497057898474944), 4: RadialProbabiltyResult(inner_single_percentage=0.038048929334225205, triple_percentage=0.0024433410827351385, outer_single_percentage=0.007449860497931827, double_percentage=0.00027497057898474944), 5: RadialProbabiltyResult(inner_single_percentage=0.038048929334225205, triple_percentage=0.0024433410827351385, outer_single_percentage=0.007449860497931826, double_percentage=0.00027497057898474934), 6: RadialProbabiltyResult(inner_single_percentage=0.038048929334225205, triple_percentage=0.002443341082735139, outer_single_percentage=0.007449860497931826, double_percentage=0.00027497057898474944), 7: RadialProbabiltyResult(inner_single_percentage=0.038048929334225205, triple_percentage=0.002443341082735139, outer_single_percentage=0.007449860497931827, double_percentage=0.00027497057898474944), 8: RadialProbabiltyResult(inner_single_percentage=0.038048929334225205, triple_percentage=0.0024433410827351385, outer_single_percentage=0.007449860497931826, double_percentage=0.00027497057898474944), 9: RadialProbabiltyResult(inner_single_percentage=0.038048929334225205, triple_percentage=0.002443341082735139, outer_single_percentage=0.007449860497931827, double_percentage=0.00027497057898474944), 10: RadialProbabiltyResult(inner_single_percentage=0.038048929334225205, triple_percentage=0.002443341082735139, outer_single_percentage=0.007449860497931827, double_percentage=0.00027497057898474944), 11: RadialProbabiltyResult(inner_single_percentage=0.038048929334225205, triple_percentage=0.0024433410827351385, outer_single_percentage=0.007449860497931828, double_percentage=0.00027497057898474944), 12: RadialProbabiltyResult(inner_single_percentage=0.038048929334225205, triple_percentage=0.0024433410827351385, outer_single_percentage=0.007449860497931828, double_percentage=0.00027497057898474944), 13: RadialProbabiltyResult(inner_single_percentage=0.038048929334225205, triple_percentage=0.0024433410827351385, outer_single_percentage=0.007449860497931827, double_percentage=0.0002749705789847494), 14: RadialProbabiltyResult(inner_single_percentage=0.038048929334225205, triple_percentage=0.002443341082735139, outer_single_percentage=0.007449860497931828, double_percentage=0.00027497057898474944), 15: RadialProbabiltyResult(inner_single_percentage=0.038048929334225205, triple_percentage=0.002443341082735139, outer_single_percentage=0.007449860497931827, double_percentage=0.00027497057898474944), 16: RadialProbabiltyResult(inner_single_percentage=0.038048929334225205, triple_percentage=0.0024433410827351385, outer_single_percentage=0.007449860497931826, double_percentage=0.00027497057898474944), 17: RadialProbabiltyResult(inner_single_percentage=0.0380489293342252, triple_percentage=0.0024433410827351385, outer_single_percentage=0.007449860497931828, double_percentage=0.00027497057898474944), 18: RadialProbabiltyResult(inner_single_percentage=0.0380489293342252, triple_percentage=0.0024433410827351385, outer_single_percentage=0.007449860497931828, double_percentage=0.00027497057898474944), 19: RadialProbabiltyResult(inner_single_percentage=0.038048929334225205, triple_percentage=0.0024433410827351385, outer_single_percentage=0.007449860497931827, double_percentage=0.00027497057898474944)}),\n",
       " <AimPoints.SINGLE: 2>: ProbabilityComputationResult(sigma_x=0.25, sigma_y=0.25, double_bull_percentage=0.0015080254013646278, single_bull_percentage=0.009211680646872472, miss_percentage=0.3210505096371925, radial_target_percentages={0: RadialProbabiltyResult(inner_single_percentage=0.03781559729956925, triple_percentage=0.010893633277561127, outer_single_percentage=0.10932984449474077, double_percentage=0.017354993831091736), 1: RadialProbabiltyResult(inner_single_percentage=0.032484759730863795, triple_percentage=0.008871342966295074, outer_single_percentage=0.08364300477419641, double_percentage=0.012556937634691213), 2: RadialProbabiltyResult(inner_single_percentage=0.02103926808857685, triple_percentage=0.0048785962011946155, outer_single_percentage=0.038491549569525295, double_percentage=0.004881621988649801), 3: RadialProbabiltyResult(inner_single_percentage=0.010936375152043794, triple_percentage=0.0019110245939211882, outer_single_percentage=0.01154049279972639, double_percentage=0.001102855654803599), 4: RadialProbabiltyResult(inner_single_percentage=0.005020491804525341, triple_percentage=0.0005808380345758324, outer_single_percentage=0.002553010032174381, double_percentage=0.00016481123567035013), 5: RadialProbabiltyResult(inner_single_percentage=0.002272062029527223, triple_percentage=0.00015316539933994314, outer_single_percentage=0.0004859913238526861, double_percentage=1.938436457201959e-05), 6: RadialProbabiltyResult(inner_single_percentage=0.0011153265922258801, triple_percentage=3.984869349797752e-05, outer_single_percentage=9.37849974392608e-05, double_percentage=2.2018484389010038e-06), 7: RadialProbabiltyResult(inner_single_percentage=0.0006297338838284355, triple_percentage=1.168954000743117e-05, outer_single_percentage=2.1469866926269813e-05, double_percentage=3.000132353540597e-07), 8: RadialProbabiltyResult(inner_single_percentage=0.0004182492042617944, triple_percentage=4.380817012509599e-06, outer_single_percentage=6.69527675356519e-06, double_percentage=6.031803059080078e-08), 9: RadialProbabiltyResult(inner_single_percentage=0.0003277209633594434, triple_percentage=2.3236692894320874e-06, outer_single_percentage=3.1730892658178426e-06, double_percentage=2.129317991836318e-08), 10: RadialProbabiltyResult(inner_single_percentage=0.00030225381490268564, triple_percentage=1.866229772101573e-06, outer_single_percentage=2.4536345978658885e-06, double_percentage=1.4841377972443413e-08), 11: RadialProbabiltyResult(inner_single_percentage=0.0003277209633594433, triple_percentage=2.323669289432086e-06, outer_single_percentage=3.1730892658178413e-06, double_percentage=2.1293179918363165e-08), 12: RadialProbabiltyResult(inner_single_percentage=0.00041824920426179437, triple_percentage=4.380817012509597e-06, outer_single_percentage=6.695276753565185e-06, double_percentage=6.031803059080073e-08), 13: RadialProbabiltyResult(inner_single_percentage=0.0006297338838284352, triple_percentage=1.1689540007431157e-05, outer_single_percentage=2.1469866926269786e-05, double_percentage=3.000132353540592e-07), 14: RadialProbabiltyResult(inner_single_percentage=0.0011153265922258793, triple_percentage=3.9848693497977484e-05, outer_single_percentage=9.378499743926067e-05, double_percentage=2.2018484389010004e-06), 15: RadialProbabiltyResult(inner_single_percentage=0.0022720620295272227, triple_percentage=0.00015316539933994298, outer_single_percentage=0.00048599132385268546, double_percentage=1.9384364572019556e-05), 16: RadialProbabiltyResult(inner_single_percentage=0.005020491804525337, triple_percentage=0.0005808380345758318, outer_single_percentage=0.002553010032174378, double_percentage=0.0001648112356703499), 17: RadialProbabiltyResult(inner_single_percentage=0.01093637515204379, triple_percentage=0.0019110245939211869, outer_single_percentage=0.01154049279972638, double_percentage=0.0011028556548035977), 18: RadialProbabiltyResult(inner_single_percentage=0.021039268088576844, triple_percentage=0.004878596201194613, outer_single_percentage=0.03849154956952526, double_percentage=0.004881621988649796), 19: RadialProbabiltyResult(inner_single_percentage=0.032484759730863795, triple_percentage=0.00887134296629507, outer_single_percentage=0.0836430047741964, double_percentage=0.012556937634691206)}),\n",
       " <AimPoints.DOUBLE: 3>: ProbabilityComputationResult(sigma_x=0.25, sigma_y=0.25, double_bull_percentage=0.000346505060864342, single_bull_percentage=0.0023454347175767476, miss_percentage=0.5375587182972206, radial_target_percentages={0: RadialProbabiltyResult(inner_single_percentage=0.01834384572012687, triple_percentage=0.006800648313051148, outer_single_percentage=0.09578047816446834, double_percentage=0.02015488735067941), 1: RadialProbabiltyResult(inner_single_percentage=0.015115599321885468, triple_percentage=0.005288441476740036, outer_single_percentage=0.06870967012197324, double_percentage=0.013587628177242655), 2: RadialProbabiltyResult(inner_single_percentage=0.008687626677827737, triple_percentage=0.0025409498108912966, outer_single_percentage=0.02622581752728826, double_percentage=0.004288469364120178), 3: RadialProbabiltyResult(inner_single_percentage=0.003771923718327232, triple_percentage=0.0008040388474783014, outer_single_percentage=0.005879988881959543, double_percentage=0.0006941311531374879), 4: RadialProbabiltyResult(inner_single_percentage=0.001403623033110748, triple_percentage=0.0001857951064695517, outer_single_percentage=0.0009055780334106464, double_percentage=6.723540808852132e-05), 5: RadialProbabiltyResult(inner_single_percentage=0.0005199787766475455, triple_percentage=3.592475236438588e-05, outer_single_percentage=0.00011627688168021133, double_percentage=4.812865862061911e-06), 6: RadialProbabiltyResult(inner_single_percentage=0.000217943936018224, triple_percentage=6.807310670890343e-06, outer_single_percentage=1.5258074589303337e-05, double_percentage=3.2730779943164057e-07), 7: RadialProbabiltyResult(inner_single_percentage=0.00011058204751467982, triple_percentage=1.4912976165196363e-06, outer_single_percentage=2.478937648707505e-06, double_percentage=2.765529550402565e-08), 8: RadialProbabiltyResult(inner_single_percentage=6.88247360600508e-05, triple_percentage=4.413879776445566e-07, outer_single_percentage=5.897472926943523e-07, double_percentage=3.7607504948346885e-09), 9: RadialProbabiltyResult(inner_single_percentage=5.209351421626625e-05, triple_percentage=2.0076271509950176e-07, outer_single_percentage=2.3489116234746812e-07, double_percentage=1.0261364694602404e-09), 10: RadialProbabiltyResult(inner_single_percentage=4.7525154859386284e-05, triple_percentage=1.5285815876434924e-07, outer_single_percentage=1.7104947166295143e-07, double_percentage=6.535839452426832e-10), 11: RadialProbabiltyResult(inner_single_percentage=5.2093514216266245e-05, triple_percentage=2.0076271509950163e-07, outer_single_percentage=2.3489116234746802e-07, double_percentage=1.0261364694602393e-09), 12: RadialProbabiltyResult(inner_single_percentage=6.882473606005078e-05, triple_percentage=4.4138797764455626e-07, outer_single_percentage=5.897472926943517e-07, double_percentage=3.7607504948346835e-09), 13: RadialProbabiltyResult(inner_single_percentage=0.00011058204751467976, triple_percentage=1.4912976165196346e-06, outer_single_percentage=2.478937648707502e-06, double_percentage=2.7655295504025585e-08), 14: RadialProbabiltyResult(inner_single_percentage=0.00021794393601822388, triple_percentage=6.807310670890333e-06, outer_single_percentage=1.5258074589303315e-05, double_percentage=3.2730779943163983e-07), 15: RadialProbabiltyResult(inner_single_percentage=0.0005199787766475451, triple_percentage=3.592475236438583e-05, outer_single_percentage=0.00011627688168021111, double_percentage=4.812865862061899e-06), 16: RadialProbabiltyResult(inner_single_percentage=0.0014036230331107467, triple_percentage=0.00018579510646955148, outer_single_percentage=0.0009055780334106449, double_percentage=6.72354080885212e-05), 17: RadialProbabiltyResult(inner_single_percentage=0.00377192371832723, triple_percentage=0.0008040388474783005, outer_single_percentage=0.005879988881959534, double_percentage=0.0006941311531374868), 18: RadialProbabiltyResult(inner_single_percentage=0.008687626677827732, triple_percentage=0.002540949810891295, outer_single_percentage=0.02622581752728824, double_percentage=0.004288469364120173), 19: RadialProbabiltyResult(inner_single_percentage=0.015115599321885468, triple_percentage=0.005288441476740034, outer_single_percentage=0.06870967012197322, double_percentage=0.013587628177242647)}),\n",
       " <AimPoints.TRIPLE: 4>: ProbabilityComputationResult(sigma_x=0.25, sigma_y=0.25, double_bull_percentage=0.0048213570958124796, single_bull_percentage=0.02704891814787083, miss_percentage=0.1387188854576069, radial_target_percentages={0: RadialProbabiltyResult(inner_single_percentage=0.05893294037400454, triple_percentage=0.012777180660691438, outer_single_percentage=0.09349674833168603, double_percentage=0.01094254272694027), 1: RadialProbabiltyResult(inner_single_percentage=0.052704019950390625, triple_percentage=0.010904579270306169, outer_single_percentage=0.07625073261485694, double_percentage=0.008513246259008993), 2: RadialProbabiltyResult(inner_single_percentage=0.03829173560387332, triple_percentage=0.006876408647508952, outer_single_percentage=0.042231607181296704, double_percentage=0.004095476999613106), 3: RadialProbabiltyResult(inner_single_percentage=0.023639068551351977, triple_percentage=0.003341831039667913, outer_single_percentage=0.01687447135531554, double_percentage=0.0012980997945479756), 4: RadialProbabiltyResult(inner_single_percentage=0.013258151721038449, triple_percentage=0.001338316664569679, outer_single_percentage=0.005341239731506293, double_percentage=0.0003004359405472427), 5: RadialProbabiltyResult(inner_single_percentage=0.007287520171790975, triple_percentage=0.0004816274685400304, outer_single_percentage=0.001503689185866964, double_percentage=5.815090163889376e-05), 6: RadialProbabiltyResult(inner_single_percentage=0.00420174799615648, triple_percentage=0.0001719445494511057, outer_single_percentage=0.0004265982921613785, double_percentage=1.102109423704332e-05), 7: RadialProbabiltyResult(inner_single_percentage=0.0026650995834130078, triple_percentage=6.742714749753071e-05, outer_single_percentage=0.00013770843891240686, double_percentage=2.4130224117106946e-06), 8: RadialProbabiltyResult(inner_single_percentage=0.0019079856309965088, triple_percentage=3.192378580037458e-05, outer_single_percentage=5.631736793287913e-05, double_percentage=7.134770810533649e-07), 9: RadialProbabiltyResult(inner_single_percentage=0.0015580904890630314, triple_percentage=1.970792008312734e-05, outer_single_percentage=3.175651082195267e-05, double_percentage=3.2422382897113136e-07), 10: RadialProbabiltyResult(inner_single_percentage=0.0014560482106880533, triple_percentage=1.6683174578486954e-05, outer_single_percentage=2.607188441859032e-05, double_percentage=2.467695317999622e-07), 11: RadialProbabiltyResult(inner_single_percentage=0.0015580904890630312, triple_percentage=1.9707920083127332e-05, outer_single_percentage=3.1756510821952655e-05, double_percentage=3.242238289711312e-07), 12: RadialProbabiltyResult(inner_single_percentage=0.0019079856309965086, triple_percentage=3.1923785800374564e-05, outer_single_percentage=5.631736793287909e-05, double_percentage=7.134770810533642e-07), 13: RadialProbabiltyResult(inner_single_percentage=0.0026650995834130065, triple_percentage=6.742714749753067e-05, outer_single_percentage=0.00013770843891240675, double_percentage=2.413022411710691e-06), 14: RadialProbabiltyResult(inner_single_percentage=0.004201747996156478, triple_percentage=0.00017194454945110556, outer_single_percentage=0.0004265982921613782, double_percentage=1.102109423704331e-05), 15: RadialProbabiltyResult(inner_single_percentage=0.007287520171790972, triple_percentage=0.00048162746854003, outer_single_percentage=0.0015036891858669621, double_percentage=5.815090163889368e-05), 16: RadialProbabiltyResult(inner_single_percentage=0.013258151721038447, triple_percentage=0.001338316664569678, outer_single_percentage=0.005341239731506288, double_percentage=0.0003004359405472423), 17: RadialProbabiltyResult(inner_single_percentage=0.023639068551351967, triple_percentage=0.0033418310396679104, outer_single_percentage=0.01687447135531553, double_percentage=0.0012980997945479743), 18: RadialProbabiltyResult(inner_single_percentage=0.03829173560387331, triple_percentage=0.006876408647508949, outer_single_percentage=0.04223160718129669, double_percentage=0.004095476999613103), 19: RadialProbabiltyResult(inner_single_percentage=0.05270401995039062, triple_percentage=0.010904579270306167, outer_single_percentage=0.07625073261485693, double_percentage=0.00851324625900899)})}"
      ]
     },
     "execution_count": 15,
     "metadata": {},
     "output_type": "execute_result"
    }
   ],
   "source": [
    "lookups"
   ]
  },
  {
   "cell_type": "code",
   "execution_count": null,
   "metadata": {},
   "outputs": [],
   "source": []
  }
 ],
 "metadata": {
  "kernelspec": {
   "display_name": "Python 3",
   "language": "python",
   "name": "python3"
  },
  "language_info": {
   "codemirror_mode": {
    "name": "ipython",
    "version": 3
   },
   "file_extension": ".py",
   "mimetype": "text/x-python",
   "name": "python",
   "nbconvert_exporter": "python",
   "pygments_lexer": "ipython3",
   "version": "3.9.6"
  },
  "orig_nbformat": 4,
  "vscode": {
   "interpreter": {
    "hash": "949777d72b0d2535278d3dc13498b2535136f6dfe0678499012e853ee9abcab1"
   }
  }
 },
 "nbformat": 4,
 "nbformat_minor": 2
}
