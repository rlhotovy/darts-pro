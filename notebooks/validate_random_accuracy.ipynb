{
 "cells": [
  {
   "cell_type": "code",
   "execution_count": 1,
   "metadata": {},
   "outputs": [],
   "source": [
    "%load_ext autoreload\n",
    "%autoreload 2"
   ]
  },
  {
   "cell_type": "code",
   "execution_count": 2,
   "metadata": {},
   "outputs": [],
   "source": [
    "import random\n",
    "\n",
    "from darts_pro.base import (\n",
    "    AbstractRandomAccuracyPlayer,\n",
    "    AbstractGameState,\n",
    "    compute_probability_lookup,\n",
    "    DartBoard,\n",
    "    Target\n",
    ")"
   ]
  },
  {
   "cell_type": "code",
   "execution_count": 3,
   "metadata": {},
   "outputs": [],
   "source": [
    "class TestState(AbstractGameState):\n",
    "    pass\n",
    "\n",
    "class TestPlayer(AbstractRandomAccuracyPlayer[TestState]):\n",
    "    def compute_intended_target(self, board: DartBoard, game_state: TestState) -> Target:\n",
    "        if random.random() < 0.1:\n",
    "            return Target(50, 1, True)\n",
    "        return Target(random.choice(board.radial_values_order), random.randint(1, 3))"
   ]
  },
  {
   "cell_type": "code",
   "execution_count": 4,
   "metadata": {},
   "outputs": [],
   "source": [
    "board = DartBoard.get_default_dartboard(False)\n",
    "sigma_x, sigma_y = 0.25, 0.25\n",
    "lookup = compute_probability_lookup(sigma_x, sigma_y, len(board.radial_values_order))\n",
    "player = TestPlayer(0, lookup)"
   ]
  },
  {
   "cell_type": "code",
   "execution_count": 7,
   "metadata": {},
   "outputs": [
    {
     "name": "stdout",
     "output_type": "stream",
     "text": [
      "Threw at Target(value=2, multiplier=1, is_bullseye=False).\n",
      "Top Results\n",
      "(Target(value=0, multiplier=1, is_bullseye=False), 0.3210505096371925)\n",
      "(Target(value=2, multiplier=1, is_bullseye=False), 0.14714544179431002)\n",
      "(Target(value=17, multiplier=1, is_bullseye=False), 0.11612776450506021)\n",
      "(Target(value=15, multiplier=1, is_bullseye=False), 0.11612776450506018)\n",
      "(Target(value=3, multiplier=1, is_bullseye=False), 0.05953081765810214)\n",
      "(Target(value=10, multiplier=1, is_bullseye=False), 0.0595308176581021)\n"
     ]
    }
   ],
   "source": [
    "target = player.compute_intended_target(board, TestState(0))\n",
    "outcome_probs = player.get_outcome_probabilities(board, target)\n",
    "ordered = sorted(outcome_probs, key=lambda t: t[1], reverse=True)[:6]\n",
    "print(f'Threw at {target}.')\n",
    "print('Top Results')\n",
    "for t in ordered:\n",
    "    print(t)"
   ]
  },
  {
   "cell_type": "code",
   "execution_count": null,
   "metadata": {},
   "outputs": [],
   "source": []
  }
 ],
 "metadata": {
  "kernelspec": {
   "display_name": "Python 3.9.6 64-bit",
   "language": "python",
   "name": "python3"
  },
  "language_info": {
   "codemirror_mode": {
    "name": "ipython",
    "version": 3
   },
   "file_extension": ".py",
   "mimetype": "text/x-python",
   "name": "python",
   "nbconvert_exporter": "python",
   "pygments_lexer": "ipython3",
   "version": "3.9.6"
  },
  "orig_nbformat": 4,
  "vscode": {
   "interpreter": {
    "hash": "949777d72b0d2535278d3dc13498b2535136f6dfe0678499012e853ee9abcab1"
   }
  }
 },
 "nbformat": 4,
 "nbformat_minor": 2
}
